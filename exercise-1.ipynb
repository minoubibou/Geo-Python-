{
 "cells": [
  {
   "cell_type": "code",
   "execution_count": 1,
   "id": "607281b0-8e4a-4b63-9971-7b4f10e4731e",
   "metadata": {
    "tags": []
   },
   "outputs": [
    {
     "data": {
      "text/plain": [
       "int"
      ]
     },
     "execution_count": 1,
     "metadata": {},
     "output_type": "execute_result"
    }
   ],
   "source": [
    "ice_cream_rating = 9\n",
    "type(ice_cream_rating)"
   ]
  },
  {
   "cell_type": "code",
   "execution_count": 2,
   "id": "5854aa3f-9ab7-4673-b2e4-e8bfa3b955cf",
   "metadata": {
    "tags": []
   },
   "outputs": [
    {
     "data": {
      "text/plain": [
       "int"
      ]
     },
     "execution_count": 2,
     "metadata": {},
     "output_type": "execute_result"
    }
   ],
   "source": [
    "sleep_rating = 10\n",
    "type(sleep_rating)"
   ]
  },
  {
   "cell_type": "code",
   "execution_count": 3,
   "id": "c7e40ee7-a348-43dd-bc05-ea9fd96d3712",
   "metadata": {
    "tags": []
   },
   "outputs": [
    {
     "name": "stdout",
     "output_type": "stream",
     "text": [
      "Ben Paskus\n"
     ]
    }
   ],
   "source": [
    "first_name = \"Ben\"\n",
    "last_name = \"Paskus\"\n",
    "my_name = first_name + \" \" + last_name\n",
    "print(my_name)"
   ]
  },
  {
   "cell_type": "code",
   "execution_count": 4,
   "id": "a14cf70e-90dd-40ba-9135-c499ce5b2b01",
   "metadata": {
    "tags": []
   },
   "outputs": [
    {
     "name": "stdout",
     "output_type": "stream",
     "text": [
      "9.5\n"
     ]
    }
   ],
   "source": [
    "happiness_rating = (ice_cream_rating + sleep_rating) / 2\n",
    "print(happiness_rating)"
   ]
  },
  {
   "cell_type": "markdown",
   "id": "a3767f76-c2df-4dc7-bcf6-a0040d4846f7",
   "metadata": {},
   "source": [
    "### Check the data types of the following variables: ice_cream_rating, sleep_rating, and happiness_rating."
   ]
  },
  {
   "cell_type": "code",
   "execution_count": 5,
   "id": "5dd4333c-6563-4e34-be1f-7eb61296a5ed",
   "metadata": {
    "tags": []
   },
   "outputs": [
    {
     "data": {
      "text/plain": [
       "(int, int, float)"
      ]
     },
     "execution_count": 5,
     "metadata": {},
     "output_type": "execute_result"
    }
   ],
   "source": [
    "type(ice_cream_rating), type(sleep_rating), type(happiness_rating)"
   ]
  },
  {
   "cell_type": "markdown",
   "id": "c5b099c7-0bbb-44d4-a6d2-da04259056c5",
   "metadata": {
    "tags": []
   },
   "source": [
    "### Finally, you can use your Python skills to generate output on the screen similar to that below. Use one command to generate each line of output.\n"
   ]
  },
  {
   "cell_type": "markdown",
   "id": "b29b45ff-f470-4b61-ab1c-da5e33dff085",
   "metadata": {
    "tags": []
   },
   "source": [
    "Note that your code should replace “Dave” with the contents of your first_name variable, “9” with your value stored in the variable ice_cream_rating, etc. For your equivalent text with the full name (e.g., \"Dave Whipp\"), you can either use the values from the variables first_name and last_name, or the value in variable my_name."
   ]
  },
  {
   "cell_type": "code",
   "execution_count": 6,
   "id": "4fd28089-da45-4080-a5bf-8095080f0b59",
   "metadata": {
    "tags": []
   },
   "outputs": [],
   "source": [
    "# My name is Dave and I give eating ice cream a score of 9 out of 10!\n",
    "# I am Dave Whipp and my sleeping enjoyment rating is 8 / 10!\n",
    "# Based on the factors above, my happiness rating is 8.5 out of 10, or 85.0 %! "
   ]
  },
  {
   "cell_type": "code",
   "execution_count": 10,
   "id": "e10d1aa3-408a-4c45-b457-194f34935804",
   "metadata": {},
   "outputs": [
    {
     "name": "stdout",
     "output_type": "stream",
     "text": [
      "My name is Ben and I give eating ice cream a score of 9 out of 10!\n",
      "I am Ben Paskus and my sleeping enjoyment rating is 10  / 10!\n",
      "Based on the factors above, my happiness rating is 9.5 out of 10, or 95.0 %!\n"
     ]
    }
   ],
   "source": [
    "print(\"My name is\", first_name, \"and I give eating ice cream a score of\", ice_cream_rating, \"out of 10!\")\n",
    "print(\"I am\", first_name, last_name, \"and my sleeping enjoyment rating is\", sleep_rating, \" / 10!\")\n",
    "print(\"Based on the factors above, my happiness rating is\", happiness_rating, \"out of 10, or\", happiness_rating * 10.0, \"%!\")"
   ]
  },
  {
   "cell_type": "code",
   "execution_count": null,
   "id": "e11cf1c6-ffc0-4e97-aaf4-ee68a6ee6048",
   "metadata": {},
   "outputs": [],
   "source": []
  }
 ],
 "metadata": {
  "kernelspec": {
   "display_name": "Python 3 (ipykernel)",
   "language": "python",
   "name": "python3"
  },
  "language_info": {
   "codemirror_mode": {
    "name": "ipython",
    "version": 3
   },
   "file_extension": ".py",
   "mimetype": "text/x-python",
   "name": "python",
   "nbconvert_exporter": "python",
   "pygments_lexer": "ipython3",
   "version": "3.10.12"
  }
 },
 "nbformat": 4,
 "nbformat_minor": 5
}
